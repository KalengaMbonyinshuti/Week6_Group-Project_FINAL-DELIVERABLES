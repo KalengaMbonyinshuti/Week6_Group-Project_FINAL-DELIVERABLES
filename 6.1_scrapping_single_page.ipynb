{
 "cells": [
  {
   "cell_type": "markdown",
   "id": "03d2f2cf",
   "metadata": {},
   "source": [
    "# Lab | Web Scraping Single Page"
   ]
  },
  {
   "cell_type": "markdown",
   "id": "6dd86f2b",
   "metadata": {},
   "source": [
    "Importing Libraries"
   ]
  },
  {
   "cell_type": "code",
   "execution_count": 1,
   "id": "4d04fef8",
   "metadata": {},
   "outputs": [],
   "source": [
    "import requests # to download html code\n",
    "from bs4 import BeautifulSoup # to navigate through the html code\n",
    "import pandas as pd\n",
    "import numpy as np\n",
    "import re"
   ]
  },
  {
   "cell_type": "markdown",
   "id": "9c53341f",
   "metadata": {},
   "source": [
    "response = requests.get(url)\n",
    " \n",
    "soup = BeautifulSoup(response.text, 'html.parser')\n",
    "    \n",
    "artist = []\n",
    "song = []\n",
    "    \n",
    "for a,s in zip(soup.select('h3 + span'), soup.select('li h3')):\n",
    "    artist.append(a.get_text(strip=True))"
   ]
  },
  {
   "cell_type": "markdown",
   "id": "9f24fbe7",
   "metadata": {},
   "source": [
    "Creating function."
   ]
  },
  {
   "cell_type": "code",
   "execution_count": 5,
   "id": "fc31bb81",
   "metadata": {},
   "outputs": [],
   "source": [
    "def scrape_hot100(url):\n",
    "    '''function to extract 100 songs and artist names from the Billboard Hot 100 to a DataFrame'''\n",
    "    \n",
    "    response = requests.get(url)\n",
    "    \n",
    "    if response.status_code != 200: print('Webpage was not retrieved')\n",
    "    \n",
    "    soup = BeautifulSoup(response.text, 'html.parser')\n",
    "    \n",
    "    artist = []\n",
    "    song = []\n",
    "    \n",
    "    for a,s in zip(soup.select('h3 + span'), soup.select('li h3')):\n",
    "        artist.append(a.get_text(strip=True).lower())\n",
    "        song.append(s.get_text(strip=True).lower())\n",
    "        \n",
    "    hot100 = pd.DataFrame({'title':song, 'artist':artist}, index=range(1,101))\n",
    "    \n",
    "    return hot100"
   ]
  },
  {
   "cell_type": "markdown",
   "id": "4b9aca27",
   "metadata": {},
   "source": [
    "Alternative\n",
    "\n",
    "soup.select('.o-chart-results-list__item h3')"
   ]
  },
  {
   "cell_type": "markdown",
   "id": "4750fbbf",
   "metadata": {},
   "source": [
    "Storing url."
   ]
  },
  {
   "cell_type": "code",
   "execution_count": 6,
   "id": "e2759c43",
   "metadata": {},
   "outputs": [],
   "source": [
    "url = 'https://www.billboard.com/charts/hot-100/'"
   ]
  },
  {
   "cell_type": "markdown",
   "id": "d7062155",
   "metadata": {},
   "source": [
    "Obtaining DataFrame."
   ]
  },
  {
   "cell_type": "code",
   "execution_count": 7,
   "id": "244edeec",
   "metadata": {},
   "outputs": [],
   "source": [
    "hot100 = scrape_hot100(url)"
   ]
  },
  {
   "cell_type": "code",
   "execution_count": 8,
   "id": "1934a422",
   "metadata": {},
   "outputs": [
    {
     "data": {
      "text/html": [
       "<div>\n",
       "<style scoped>\n",
       "    .dataframe tbody tr th:only-of-type {\n",
       "        vertical-align: middle;\n",
       "    }\n",
       "\n",
       "    .dataframe tbody tr th {\n",
       "        vertical-align: top;\n",
       "    }\n",
       "\n",
       "    .dataframe thead th {\n",
       "        text-align: right;\n",
       "    }\n",
       "</style>\n",
       "<table border=\"1\" class=\"dataframe\">\n",
       "  <thead>\n",
       "    <tr style=\"text-align: right;\">\n",
       "      <th></th>\n",
       "      <th>title</th>\n",
       "      <th>artist</th>\n",
       "    </tr>\n",
       "  </thead>\n",
       "  <tbody>\n",
       "    <tr>\n",
       "      <th>1</th>\n",
       "      <td>flowers</td>\n",
       "      <td>miley cyrus</td>\n",
       "    </tr>\n",
       "    <tr>\n",
       "      <th>2</th>\n",
       "      <td>kill bill</td>\n",
       "      <td>sza</td>\n",
       "    </tr>\n",
       "    <tr>\n",
       "      <th>3</th>\n",
       "      <td>last night</td>\n",
       "      <td>morgan wallen</td>\n",
       "    </tr>\n",
       "    <tr>\n",
       "      <th>4</th>\n",
       "      <td>unholy</td>\n",
       "      <td>sam smith &amp; kim petras</td>\n",
       "    </tr>\n",
       "    <tr>\n",
       "      <th>5</th>\n",
       "      <td>creepin'</td>\n",
       "      <td>metro boomin, the weeknd &amp; 21 savage</td>\n",
       "    </tr>\n",
       "    <tr>\n",
       "      <th>...</th>\n",
       "      <td>...</td>\n",
       "      <td>...</td>\n",
       "    </tr>\n",
       "    <tr>\n",
       "      <th>96</th>\n",
       "      <td>yandel 150</td>\n",
       "      <td>yandel &amp; feid</td>\n",
       "    </tr>\n",
       "    <tr>\n",
       "      <th>97</th>\n",
       "      <td>heart to heart</td>\n",
       "      <td>mac demarco</td>\n",
       "    </tr>\n",
       "    <tr>\n",
       "      <th>98</th>\n",
       "      <td>next thing you know</td>\n",
       "      <td>jordan davis</td>\n",
       "    </tr>\n",
       "    <tr>\n",
       "      <th>99</th>\n",
       "      <td>never gonna not dance again</td>\n",
       "      <td>p!nk</td>\n",
       "    </tr>\n",
       "    <tr>\n",
       "      <th>100</th>\n",
       "      <td>open arms</td>\n",
       "      <td>sza featuring travis scott</td>\n",
       "    </tr>\n",
       "  </tbody>\n",
       "</table>\n",
       "<p>100 rows × 2 columns</p>\n",
       "</div>"
      ],
      "text/plain": [
       "                           title                                artist\n",
       "1                        flowers                           miley cyrus\n",
       "2                      kill bill                                   sza\n",
       "3                     last night                         morgan wallen\n",
       "4                         unholy                sam smith & kim petras\n",
       "5                       creepin'  metro boomin, the weeknd & 21 savage\n",
       "..                           ...                                   ...\n",
       "96                    yandel 150                         yandel & feid\n",
       "97                heart to heart                           mac demarco\n",
       "98           next thing you know                          jordan davis\n",
       "99   never gonna not dance again                                  p!nk\n",
       "100                    open arms            sza featuring travis scott\n",
       "\n",
       "[100 rows x 2 columns]"
      ]
     },
     "execution_count": 8,
     "metadata": {},
     "output_type": "execute_result"
    }
   ],
   "source": [
    "hot100"
   ]
  },
  {
   "cell_type": "code",
   "execution_count": 9,
   "id": "7d6626aa",
   "metadata": {},
   "outputs": [],
   "source": [
    "hot100.to_csv('hot100.csv')"
   ]
  },
  {
   "cell_type": "code",
   "execution_count": null,
   "id": "d538d4ba",
   "metadata": {},
   "outputs": [],
   "source": []
  }
 ],
 "metadata": {
  "kernelspec": {
   "display_name": "Python 3 (ipykernel)",
   "language": "python",
   "name": "python3"
  },
  "language_info": {
   "codemirror_mode": {
    "name": "ipython",
    "version": 3
   },
   "file_extension": ".py",
   "mimetype": "text/x-python",
   "name": "python",
   "nbconvert_exporter": "python",
   "pygments_lexer": "ipython3",
   "version": "3.9.13"
  }
 },
 "nbformat": 4,
 "nbformat_minor": 5
}
